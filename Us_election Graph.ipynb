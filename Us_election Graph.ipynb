{
 "cells": [
  {
   "cell_type": "code",
   "execution_count": 1,
   "metadata": {},
   "outputs": [],
   "source": [
    "import pandas as pd \n",
    "import numpy as np\n",
    "from matplotlib import pyplot as plt\n",
    "import matplotlib.colors as pltc\n",
    "import geopandas as gpd\n",
    "import plotly.express as px\n",
    "import plotly.io as pio\n",
    "import plotly.graph_objects as go"
   ]
  },
  {
   "cell_type": "code",
   "execution_count": 2,
   "metadata": {},
   "outputs": [],
   "source": [
    "# change existing CSV files\n",
    "trump_update = open(\"/home/mozes721/Desktop/US_Elections/trump.csv\")\n",
    "trump_update = ''.join(i for i in trump_update).replace('-', ' ')\n",
    "trump_update_csv = open(\"trump_results.csv\", \"w\")\n",
    "trump_update_csv.writelines(trump_update)\n",
    "trump_update_csv.close()\n",
    "\n",
    "biden_update = open(\"/home/mozes721/Desktop/US_Elections/biden.csv\")\n",
    "biden_update = ''.join(i for i in trump_update).replace('-', ' ')\n",
    "biden_update_csv = open(\"biden_results.csv\", \"w\")\n",
    "biden_update_csv.writelines(biden_update)\n",
    "biden_update_csv.close()"
   ]
  },
  {
   "cell_type": "code",
   "execution_count": 11,
   "metadata": {},
   "outputs": [
    {
     "output_type": "stream",
     "name": "stdout",
     "text": [
      "        state      votes percent\n0     Alabama  1,441,170   62.2%\n1      Alaska    189,543   53.1%\n2     Arizona  1,661,686   49.1%\n3    Arkansas    760,647   62.4%\n4  California  5,982,194   34.3%\n"
     ]
    }
   ],
   "source": [
    "trump_csv =pd.read_csv(\"/home/mozes721/Desktop/US_Elections/trump_results.csv\")\n",
    "biden_csv =pd.read_csv(\"/home/mozes721/Desktop/US_Elections/biden_results.csv\")\n",
    "#change the vote row \n",
    "\n",
    "trumpcsv_adjusted = trump_csv.drop('Unnamed: 0', axis=1)\n",
    "\n",
    "bidencsv_adjusted = biden_csv.drop('Unnamed: 0', axis=1)\n",
    "\n",
    "\n",
    "\n",
    "head = trumpcsv_adjusted.head()\n",
    "print(head)"
   ]
  },
  {
   "cell_type": "code",
   "execution_count": 44,
   "metadata": {},
   "outputs": [
    {
     "output_type": "execute_result",
     "data": {
      "text/plain": [
       "  REGION DIVISION STATEFP   STATENS GEOID STUSPS           NAME LSAD  MTFCC  \\\n",
       "0      3        5      54  01779805    54     WV  West Virginia   00  G4000   \n",
       "1      3        5      12  00294478    12     FL        Florida   00  G4000   \n",
       "2      2        3      17  01779784    17     IL       Illinois   00  G4000   \n",
       "3      2        4      27  00662849    27     MN      Minnesota   00  G4000   \n",
       "4      3        5      24  01714934    24     MD       Maryland   00  G4000   \n",
       "\n",
       "  FUNCSTAT         ALAND       AWATER     INTPTLAT      INTPTLON  \\\n",
       "0        A   62265662566    489840834  +38.6472854  -080.6183274   \n",
       "1        A  138911437206  31398800291  +28.4574302  -082.4091478   \n",
       "2        A  143784114293   6211277447  +40.1028754  -089.1526108   \n",
       "3        A  206229176104  18944967530  +46.3158148  -094.1996628   \n",
       "4        A   25150696145   6980371026  +38.9466584  -076.6744939   \n",
       "\n",
       "                                            geometry  \n",
       "0  POLYGON ((-81.74725 39.09538, -81.74635 39.096...  \n",
       "1  MULTIPOLYGON (((-82.98748 24.62538, -82.98748 ...  \n",
       "2  POLYGON ((-91.18529 40.63780, -91.17510 40.643...  \n",
       "3  POLYGON ((-96.78438 46.63050, -96.78434 46.630...  \n",
       "4  POLYGON ((-77.45881 39.22027, -77.45866 39.220...  "
      ],
      "text/html": "<div>\n<style scoped>\n    .dataframe tbody tr th:only-of-type {\n        vertical-align: middle;\n    }\n\n    .dataframe tbody tr th {\n        vertical-align: top;\n    }\n\n    .dataframe thead th {\n        text-align: right;\n    }\n</style>\n<table border=\"1\" class=\"dataframe\">\n  <thead>\n    <tr style=\"text-align: right;\">\n      <th></th>\n      <th>REGION</th>\n      <th>DIVISION</th>\n      <th>STATEFP</th>\n      <th>STATENS</th>\n      <th>GEOID</th>\n      <th>STUSPS</th>\n      <th>NAME</th>\n      <th>LSAD</th>\n      <th>MTFCC</th>\n      <th>FUNCSTAT</th>\n      <th>ALAND</th>\n      <th>AWATER</th>\n      <th>INTPTLAT</th>\n      <th>INTPTLON</th>\n      <th>geometry</th>\n    </tr>\n  </thead>\n  <tbody>\n    <tr>\n      <th>0</th>\n      <td>3</td>\n      <td>5</td>\n      <td>54</td>\n      <td>01779805</td>\n      <td>54</td>\n      <td>WV</td>\n      <td>West Virginia</td>\n      <td>00</td>\n      <td>G4000</td>\n      <td>A</td>\n      <td>62265662566</td>\n      <td>489840834</td>\n      <td>+38.6472854</td>\n      <td>-080.6183274</td>\n      <td>POLYGON ((-81.74725 39.09538, -81.74635 39.096...</td>\n    </tr>\n    <tr>\n      <th>1</th>\n      <td>3</td>\n      <td>5</td>\n      <td>12</td>\n      <td>00294478</td>\n      <td>12</td>\n      <td>FL</td>\n      <td>Florida</td>\n      <td>00</td>\n      <td>G4000</td>\n      <td>A</td>\n      <td>138911437206</td>\n      <td>31398800291</td>\n      <td>+28.4574302</td>\n      <td>-082.4091478</td>\n      <td>MULTIPOLYGON (((-82.98748 24.62538, -82.98748 ...</td>\n    </tr>\n    <tr>\n      <th>2</th>\n      <td>2</td>\n      <td>3</td>\n      <td>17</td>\n      <td>01779784</td>\n      <td>17</td>\n      <td>IL</td>\n      <td>Illinois</td>\n      <td>00</td>\n      <td>G4000</td>\n      <td>A</td>\n      <td>143784114293</td>\n      <td>6211277447</td>\n      <td>+40.1028754</td>\n      <td>-089.1526108</td>\n      <td>POLYGON ((-91.18529 40.63780, -91.17510 40.643...</td>\n    </tr>\n    <tr>\n      <th>3</th>\n      <td>2</td>\n      <td>4</td>\n      <td>27</td>\n      <td>00662849</td>\n      <td>27</td>\n      <td>MN</td>\n      <td>Minnesota</td>\n      <td>00</td>\n      <td>G4000</td>\n      <td>A</td>\n      <td>206229176104</td>\n      <td>18944967530</td>\n      <td>+46.3158148</td>\n      <td>-094.1996628</td>\n      <td>POLYGON ((-96.78438 46.63050, -96.78434 46.630...</td>\n    </tr>\n    <tr>\n      <th>4</th>\n      <td>3</td>\n      <td>5</td>\n      <td>24</td>\n      <td>01714934</td>\n      <td>24</td>\n      <td>MD</td>\n      <td>Maryland</td>\n      <td>00</td>\n      <td>G4000</td>\n      <td>A</td>\n      <td>25150696145</td>\n      <td>6980371026</td>\n      <td>+38.9466584</td>\n      <td>-076.6744939</td>\n      <td>POLYGON ((-77.45881 39.22027, -77.45866 39.220...</td>\n    </tr>\n  </tbody>\n</table>\n</div>"
     },
     "metadata": {},
     "execution_count": 44
    }
   ],
   "source": [
    "states_data = gpd.read_file('us_states/tl_2017_us_state.shp')\n",
    "states_data.head()\n"
   ]
  },
  {
   "cell_type": "code",
   "execution_count": 49,
   "metadata": {},
   "outputs": [
    {
     "output_type": "display_data",
     "data": {
      "application/vnd.plotly.v1+json": {
       "config": {
        "plotlyServerURL": "https://plot.ly"
       },
       "data": [
        {
         "locations": [
          "1,441,170",
          "189,543",
          "1,661,686",
          "760,647",
          "5,982,194",
          "1,364,471",
          "715,291",
          "200,603",
          "5,668,731",
          "2,461,837",
          "196,602",
          "554,128",
          "2,438,943",
          "1,729,516",
          "897,672",
          "752,933",
          "1,326,646",
          "1,255,776",
          "360,480",
          "976,414",
          "1,167,202",
          "2,649,852",
          "1,484,065",
          "756,789",
          "1,718,282",
          "343,647",
          "556,846",
          "669,890",
          "365,660",
          "1,883,260",
          "401,894",
          "3,039,466",
          "2,758,775",
          "235,595",
          "3,154,834",
          "1,020,280",
          "958,448",
          "3,378,263",
          "199,922",
          "1,385,103",
          "261,043",
          "1,849,556",
          "5,890,347",
          "865,140",
          "112,704",
          "1,962,430",
          "1,584,651",
          "18,586",
          "545,382",
          "1,610,184",
          "193,559"
         ],
         "type": "scattergeo"
        }
       ],
       "layout": {
        "geo": {
         "countrycolor": "Black",
         "resolution": 110,
         "scope": "usa",
         "showcountries": true,
         "showsubunits": true,
         "subunitcolor": "Blue",
         "visible": false
        },
        "template": {
         "data": {
          "bar": [
           {
            "error_x": {
             "color": "#2a3f5f"
            },
            "error_y": {
             "color": "#2a3f5f"
            },
            "marker": {
             "line": {
              "color": "#E5ECF6",
              "width": 0.5
             }
            },
            "type": "bar"
           }
          ],
          "barpolar": [
           {
            "marker": {
             "line": {
              "color": "#E5ECF6",
              "width": 0.5
             }
            },
            "type": "barpolar"
           }
          ],
          "carpet": [
           {
            "aaxis": {
             "endlinecolor": "#2a3f5f",
             "gridcolor": "white",
             "linecolor": "white",
             "minorgridcolor": "white",
             "startlinecolor": "#2a3f5f"
            },
            "baxis": {
             "endlinecolor": "#2a3f5f",
             "gridcolor": "white",
             "linecolor": "white",
             "minorgridcolor": "white",
             "startlinecolor": "#2a3f5f"
            },
            "type": "carpet"
           }
          ],
          "choropleth": [
           {
            "colorbar": {
             "outlinewidth": 0,
             "ticks": ""
            },
            "type": "choropleth"
           }
          ],
          "contour": [
           {
            "colorbar": {
             "outlinewidth": 0,
             "ticks": ""
            },
            "colorscale": [
             [
              0,
              "#0d0887"
             ],
             [
              0.1111111111111111,
              "#46039f"
             ],
             [
              0.2222222222222222,
              "#7201a8"
             ],
             [
              0.3333333333333333,
              "#9c179e"
             ],
             [
              0.4444444444444444,
              "#bd3786"
             ],
             [
              0.5555555555555556,
              "#d8576b"
             ],
             [
              0.6666666666666666,
              "#ed7953"
             ],
             [
              0.7777777777777778,
              "#fb9f3a"
             ],
             [
              0.8888888888888888,
              "#fdca26"
             ],
             [
              1,
              "#f0f921"
             ]
            ],
            "type": "contour"
           }
          ],
          "contourcarpet": [
           {
            "colorbar": {
             "outlinewidth": 0,
             "ticks": ""
            },
            "type": "contourcarpet"
           }
          ],
          "heatmap": [
           {
            "colorbar": {
             "outlinewidth": 0,
             "ticks": ""
            },
            "colorscale": [
             [
              0,
              "#0d0887"
             ],
             [
              0.1111111111111111,
              "#46039f"
             ],
             [
              0.2222222222222222,
              "#7201a8"
             ],
             [
              0.3333333333333333,
              "#9c179e"
             ],
             [
              0.4444444444444444,
              "#bd3786"
             ],
             [
              0.5555555555555556,
              "#d8576b"
             ],
             [
              0.6666666666666666,
              "#ed7953"
             ],
             [
              0.7777777777777778,
              "#fb9f3a"
             ],
             [
              0.8888888888888888,
              "#fdca26"
             ],
             [
              1,
              "#f0f921"
             ]
            ],
            "type": "heatmap"
           }
          ],
          "heatmapgl": [
           {
            "colorbar": {
             "outlinewidth": 0,
             "ticks": ""
            },
            "colorscale": [
             [
              0,
              "#0d0887"
             ],
             [
              0.1111111111111111,
              "#46039f"
             ],
             [
              0.2222222222222222,
              "#7201a8"
             ],
             [
              0.3333333333333333,
              "#9c179e"
             ],
             [
              0.4444444444444444,
              "#bd3786"
             ],
             [
              0.5555555555555556,
              "#d8576b"
             ],
             [
              0.6666666666666666,
              "#ed7953"
             ],
             [
              0.7777777777777778,
              "#fb9f3a"
             ],
             [
              0.8888888888888888,
              "#fdca26"
             ],
             [
              1,
              "#f0f921"
             ]
            ],
            "type": "heatmapgl"
           }
          ],
          "histogram": [
           {
            "marker": {
             "colorbar": {
              "outlinewidth": 0,
              "ticks": ""
             }
            },
            "type": "histogram"
           }
          ],
          "histogram2d": [
           {
            "colorbar": {
             "outlinewidth": 0,
             "ticks": ""
            },
            "colorscale": [
             [
              0,
              "#0d0887"
             ],
             [
              0.1111111111111111,
              "#46039f"
             ],
             [
              0.2222222222222222,
              "#7201a8"
             ],
             [
              0.3333333333333333,
              "#9c179e"
             ],
             [
              0.4444444444444444,
              "#bd3786"
             ],
             [
              0.5555555555555556,
              "#d8576b"
             ],
             [
              0.6666666666666666,
              "#ed7953"
             ],
             [
              0.7777777777777778,
              "#fb9f3a"
             ],
             [
              0.8888888888888888,
              "#fdca26"
             ],
             [
              1,
              "#f0f921"
             ]
            ],
            "type": "histogram2d"
           }
          ],
          "histogram2dcontour": [
           {
            "colorbar": {
             "outlinewidth": 0,
             "ticks": ""
            },
            "colorscale": [
             [
              0,
              "#0d0887"
             ],
             [
              0.1111111111111111,
              "#46039f"
             ],
             [
              0.2222222222222222,
              "#7201a8"
             ],
             [
              0.3333333333333333,
              "#9c179e"
             ],
             [
              0.4444444444444444,
              "#bd3786"
             ],
             [
              0.5555555555555556,
              "#d8576b"
             ],
             [
              0.6666666666666666,
              "#ed7953"
             ],
             [
              0.7777777777777778,
              "#fb9f3a"
             ],
             [
              0.8888888888888888,
              "#fdca26"
             ],
             [
              1,
              "#f0f921"
             ]
            ],
            "type": "histogram2dcontour"
           }
          ],
          "mesh3d": [
           {
            "colorbar": {
             "outlinewidth": 0,
             "ticks": ""
            },
            "type": "mesh3d"
           }
          ],
          "parcoords": [
           {
            "line": {
             "colorbar": {
              "outlinewidth": 0,
              "ticks": ""
             }
            },
            "type": "parcoords"
           }
          ],
          "pie": [
           {
            "automargin": true,
            "type": "pie"
           }
          ],
          "scatter": [
           {
            "marker": {
             "colorbar": {
              "outlinewidth": 0,
              "ticks": ""
             }
            },
            "type": "scatter"
           }
          ],
          "scatter3d": [
           {
            "line": {
             "colorbar": {
              "outlinewidth": 0,
              "ticks": ""
             }
            },
            "marker": {
             "colorbar": {
              "outlinewidth": 0,
              "ticks": ""
             }
            },
            "type": "scatter3d"
           }
          ],
          "scattercarpet": [
           {
            "marker": {
             "colorbar": {
              "outlinewidth": 0,
              "ticks": ""
             }
            },
            "type": "scattercarpet"
           }
          ],
          "scattergeo": [
           {
            "marker": {
             "colorbar": {
              "outlinewidth": 0,
              "ticks": ""
             }
            },
            "type": "scattergeo"
           }
          ],
          "scattergl": [
           {
            "marker": {
             "colorbar": {
              "outlinewidth": 0,
              "ticks": ""
             }
            },
            "type": "scattergl"
           }
          ],
          "scattermapbox": [
           {
            "marker": {
             "colorbar": {
              "outlinewidth": 0,
              "ticks": ""
             }
            },
            "type": "scattermapbox"
           }
          ],
          "scatterpolar": [
           {
            "marker": {
             "colorbar": {
              "outlinewidth": 0,
              "ticks": ""
             }
            },
            "type": "scatterpolar"
           }
          ],
          "scatterpolargl": [
           {
            "marker": {
             "colorbar": {
              "outlinewidth": 0,
              "ticks": ""
             }
            },
            "type": "scatterpolargl"
           }
          ],
          "scatterternary": [
           {
            "marker": {
             "colorbar": {
              "outlinewidth": 0,
              "ticks": ""
             }
            },
            "type": "scatterternary"
           }
          ],
          "surface": [
           {
            "colorbar": {
             "outlinewidth": 0,
             "ticks": ""
            },
            "colorscale": [
             [
              0,
              "#0d0887"
             ],
             [
              0.1111111111111111,
              "#46039f"
             ],
             [
              0.2222222222222222,
              "#7201a8"
             ],
             [
              0.3333333333333333,
              "#9c179e"
             ],
             [
              0.4444444444444444,
              "#bd3786"
             ],
             [
              0.5555555555555556,
              "#d8576b"
             ],
             [
              0.6666666666666666,
              "#ed7953"
             ],
             [
              0.7777777777777778,
              "#fb9f3a"
             ],
             [
              0.8888888888888888,
              "#fdca26"
             ],
             [
              1,
              "#f0f921"
             ]
            ],
            "type": "surface"
           }
          ],
          "table": [
           {
            "cells": {
             "fill": {
              "color": "#EBF0F8"
             },
             "line": {
              "color": "white"
             }
            },
            "header": {
             "fill": {
              "color": "#C8D4E3"
             },
             "line": {
              "color": "white"
             }
            },
            "type": "table"
           }
          ]
         },
         "layout": {
          "annotationdefaults": {
           "arrowcolor": "#2a3f5f",
           "arrowhead": 0,
           "arrowwidth": 1
          },
          "autotypenumbers": "strict",
          "coloraxis": {
           "colorbar": {
            "outlinewidth": 0,
            "ticks": ""
           }
          },
          "colorscale": {
           "diverging": [
            [
             0,
             "#8e0152"
            ],
            [
             0.1,
             "#c51b7d"
            ],
            [
             0.2,
             "#de77ae"
            ],
            [
             0.3,
             "#f1b6da"
            ],
            [
             0.4,
             "#fde0ef"
            ],
            [
             0.5,
             "#f7f7f7"
            ],
            [
             0.6,
             "#e6f5d0"
            ],
            [
             0.7,
             "#b8e186"
            ],
            [
             0.8,
             "#7fbc41"
            ],
            [
             0.9,
             "#4d9221"
            ],
            [
             1,
             "#276419"
            ]
           ],
           "sequential": [
            [
             0,
             "#0d0887"
            ],
            [
             0.1111111111111111,
             "#46039f"
            ],
            [
             0.2222222222222222,
             "#7201a8"
            ],
            [
             0.3333333333333333,
             "#9c179e"
            ],
            [
             0.4444444444444444,
             "#bd3786"
            ],
            [
             0.5555555555555556,
             "#d8576b"
            ],
            [
             0.6666666666666666,
             "#ed7953"
            ],
            [
             0.7777777777777778,
             "#fb9f3a"
            ],
            [
             0.8888888888888888,
             "#fdca26"
            ],
            [
             1,
             "#f0f921"
            ]
           ],
           "sequentialminus": [
            [
             0,
             "#0d0887"
            ],
            [
             0.1111111111111111,
             "#46039f"
            ],
            [
             0.2222222222222222,
             "#7201a8"
            ],
            [
             0.3333333333333333,
             "#9c179e"
            ],
            [
             0.4444444444444444,
             "#bd3786"
            ],
            [
             0.5555555555555556,
             "#d8576b"
            ],
            [
             0.6666666666666666,
             "#ed7953"
            ],
            [
             0.7777777777777778,
             "#fb9f3a"
            ],
            [
             0.8888888888888888,
             "#fdca26"
            ],
            [
             1,
             "#f0f921"
            ]
           ]
          },
          "colorway": [
           "#636efa",
           "#EF553B",
           "#00cc96",
           "#ab63fa",
           "#FFA15A",
           "#19d3f3",
           "#FF6692",
           "#B6E880",
           "#FF97FF",
           "#FECB52"
          ],
          "font": {
           "color": "#2a3f5f"
          },
          "geo": {
           "bgcolor": "white",
           "lakecolor": "white",
           "landcolor": "#E5ECF6",
           "showlakes": true,
           "showland": true,
           "subunitcolor": "white"
          },
          "hoverlabel": {
           "align": "left"
          },
          "hovermode": "closest",
          "mapbox": {
           "style": "light"
          },
          "paper_bgcolor": "white",
          "plot_bgcolor": "#E5ECF6",
          "polar": {
           "angularaxis": {
            "gridcolor": "white",
            "linecolor": "white",
            "ticks": ""
           },
           "bgcolor": "#E5ECF6",
           "radialaxis": {
            "gridcolor": "white",
            "linecolor": "white",
            "ticks": ""
           }
          },
          "scene": {
           "xaxis": {
            "backgroundcolor": "#E5ECF6",
            "gridcolor": "white",
            "gridwidth": 2,
            "linecolor": "white",
            "showbackground": true,
            "ticks": "",
            "zerolinecolor": "white"
           },
           "yaxis": {
            "backgroundcolor": "#E5ECF6",
            "gridcolor": "white",
            "gridwidth": 2,
            "linecolor": "white",
            "showbackground": true,
            "ticks": "",
            "zerolinecolor": "white"
           },
           "zaxis": {
            "backgroundcolor": "#E5ECF6",
            "gridcolor": "white",
            "gridwidth": 2,
            "linecolor": "white",
            "showbackground": true,
            "ticks": "",
            "zerolinecolor": "white"
           }
          },
          "shapedefaults": {
           "line": {
            "color": "#2a3f5f"
           }
          },
          "ternary": {
           "aaxis": {
            "gridcolor": "white",
            "linecolor": "white",
            "ticks": ""
           },
           "baxis": {
            "gridcolor": "white",
            "linecolor": "white",
            "ticks": ""
           },
           "bgcolor": "#E5ECF6",
           "caxis": {
            "gridcolor": "white",
            "linecolor": "white",
            "ticks": ""
           }
          },
          "title": {
           "x": 0.05
          },
          "xaxis": {
           "automargin": true,
           "gridcolor": "white",
           "linecolor": "white",
           "ticks": "",
           "title": {
            "standoff": 15
           },
           "zerolinecolor": "white",
           "zerolinewidth": 2
          },
          "yaxis": {
           "automargin": true,
           "gridcolor": "white",
           "linecolor": "white",
           "ticks": "",
           "title": {
            "standoff": 15
           },
           "zerolinecolor": "white",
           "zerolinewidth": 2
          }
         }
        }
       }
      }
     },
     "metadata": {}
    }
   ],
   "source": [
    "# fig = go.Figure(data=go.Choropleth(\n",
    "#     locations=trumpcsv_adjusted['state'], # Spatial coordinates\n",
    "#     z = trumpcsv_adjusted['percent'], # Data to be color-coded\n",
    "#     locationmode = 'USA-states', # set of locations match entries in `locations`\n",
    "#     colorscale = 'reds',\n",
    "#     colorbar_title = \"votesRep\",\n",
    "# ))\n",
    "# fig.update_layout(\n",
    "#     title_text = '2020 Presidential Election',\n",
    "#     geo_scope='usa', # limite map scope to USA\n",
    "# )\n",
    "\n",
    "fig = go.Figure(go.Scattergeo(locations=trumpcsv_adjusted['votes']))\n",
    "fig.update_geos(\n",
    "    visible=False, resolution=110, scope=\"usa\",\n",
    "    showcountries=True, countrycolor=\"Black\",\n",
    "    showsubunits=True, subunitcolor=\"Blue\"\n",
    ")\n",
    "\n",
    "\n",
    "\n",
    "fig.show()"
   ]
  },
  {
   "cell_type": "code",
   "execution_count": 50,
   "metadata": {},
   "outputs": [
    {
     "output_type": "error",
     "ename": "ValueError",
     "evalue": "I/O operation on closed file.",
     "traceback": [
      "\u001b[0;31m---------------------------------------------------------------------------\u001b[0m",
      "\u001b[0;31mValueError\u001b[0m                                Traceback (most recent call last)",
      "\u001b[0;32m<ipython-input-50-191cb691ee2d>\u001b[0m in \u001b[0;36m<module>\u001b[0;34m\u001b[0m\n\u001b[0;32m----> 1\u001b[0;31m fig = px.choropleth(trump_update_csv,  # Input Pandas DataFrame\n\u001b[0m\u001b[1;32m      2\u001b[0m                     \u001b[0mlocations\u001b[0m\u001b[0;34m=\u001b[0m\u001b[0;34m\"state\"\u001b[0m\u001b[0;34m,\u001b[0m  \u001b[0;31m# DataFrame column with locations\u001b[0m\u001b[0;34m\u001b[0m\u001b[0;34m\u001b[0m\u001b[0m\n\u001b[1;32m      3\u001b[0m                     \u001b[0mcolor\u001b[0m\u001b[0;34m=\u001b[0m\u001b[0;34m\"value\"\u001b[0m\u001b[0;34m,\u001b[0m  \u001b[0;31m# DataFrame column with color values\u001b[0m\u001b[0;34m\u001b[0m\u001b[0;34m\u001b[0m\u001b[0m\n\u001b[1;32m      4\u001b[0m                     \u001b[0mhover_name\u001b[0m\u001b[0;34m=\u001b[0m\u001b[0;34m\"state\"\u001b[0m\u001b[0;34m,\u001b[0m \u001b[0;31m# DataFrame column hover info\u001b[0m\u001b[0;34m\u001b[0m\u001b[0;34m\u001b[0m\u001b[0m\n\u001b[1;32m      5\u001b[0m                     locationmode = 'USA-states') # Set to plot as US States\n",
      "\u001b[0;32m~/Desktop/US_Elections/venv/lib/python3.8/site-packages/plotly/express/_chart_types.py\u001b[0m in \u001b[0;36mchoropleth\u001b[0;34m(data_frame, lat, lon, locations, locationmode, geojson, featureidkey, color, facet_row, facet_col, facet_col_wrap, facet_row_spacing, facet_col_spacing, hover_name, hover_data, custom_data, animation_frame, animation_group, category_orders, labels, color_discrete_sequence, color_discrete_map, color_continuous_scale, range_color, color_continuous_midpoint, projection, scope, center, fitbounds, basemap_visible, title, template, width, height)\u001b[0m\n\u001b[1;32m    972\u001b[0m     \u001b[0mcolored\u001b[0m \u001b[0mregion\u001b[0m \u001b[0mmark\u001b[0m \u001b[0mon\u001b[0m \u001b[0ma\u001b[0m \u001b[0mmap\u001b[0m\u001b[0;34m.\u001b[0m\u001b[0;34m\u001b[0m\u001b[0;34m\u001b[0m\u001b[0m\n\u001b[1;32m    973\u001b[0m     \"\"\"\n\u001b[0;32m--> 974\u001b[0;31m     return make_figure(\n\u001b[0m\u001b[1;32m    975\u001b[0m         \u001b[0margs\u001b[0m\u001b[0;34m=\u001b[0m\u001b[0mlocals\u001b[0m\u001b[0;34m(\u001b[0m\u001b[0;34m)\u001b[0m\u001b[0;34m,\u001b[0m\u001b[0;34m\u001b[0m\u001b[0;34m\u001b[0m\u001b[0m\n\u001b[1;32m    976\u001b[0m         \u001b[0mconstructor\u001b[0m\u001b[0;34m=\u001b[0m\u001b[0mgo\u001b[0m\u001b[0;34m.\u001b[0m\u001b[0mChoropleth\u001b[0m\u001b[0;34m,\u001b[0m\u001b[0;34m\u001b[0m\u001b[0;34m\u001b[0m\u001b[0m\n",
      "\u001b[0;32m~/Desktop/US_Elections/venv/lib/python3.8/site-packages/plotly/express/_core.py\u001b[0m in \u001b[0;36mmake_figure\u001b[0;34m(args, constructor, trace_patch, layout_patch)\u001b[0m\n\u001b[1;32m   1831\u001b[0m     \u001b[0mapply_default_cascade\u001b[0m\u001b[0;34m(\u001b[0m\u001b[0margs\u001b[0m\u001b[0;34m)\u001b[0m\u001b[0;34m\u001b[0m\u001b[0;34m\u001b[0m\u001b[0m\n\u001b[1;32m   1832\u001b[0m \u001b[0;34m\u001b[0m\u001b[0m\n\u001b[0;32m-> 1833\u001b[0;31m     \u001b[0margs\u001b[0m \u001b[0;34m=\u001b[0m \u001b[0mbuild_dataframe\u001b[0m\u001b[0;34m(\u001b[0m\u001b[0margs\u001b[0m\u001b[0;34m,\u001b[0m \u001b[0mconstructor\u001b[0m\u001b[0;34m)\u001b[0m\u001b[0;34m\u001b[0m\u001b[0;34m\u001b[0m\u001b[0m\n\u001b[0m\u001b[1;32m   1834\u001b[0m     \u001b[0;32mif\u001b[0m \u001b[0mconstructor\u001b[0m \u001b[0;32min\u001b[0m \u001b[0;34m[\u001b[0m\u001b[0mgo\u001b[0m\u001b[0;34m.\u001b[0m\u001b[0mTreemap\u001b[0m\u001b[0;34m,\u001b[0m \u001b[0mgo\u001b[0m\u001b[0;34m.\u001b[0m\u001b[0mSunburst\u001b[0m\u001b[0;34m]\u001b[0m \u001b[0;32mand\u001b[0m \u001b[0margs\u001b[0m\u001b[0;34m[\u001b[0m\u001b[0;34m\"path\"\u001b[0m\u001b[0;34m]\u001b[0m \u001b[0;32mis\u001b[0m \u001b[0;32mnot\u001b[0m \u001b[0;32mNone\u001b[0m\u001b[0;34m:\u001b[0m\u001b[0;34m\u001b[0m\u001b[0;34m\u001b[0m\u001b[0m\n\u001b[1;32m   1835\u001b[0m         \u001b[0margs\u001b[0m \u001b[0;34m=\u001b[0m \u001b[0mprocess_dataframe_hierarchy\u001b[0m\u001b[0;34m(\u001b[0m\u001b[0margs\u001b[0m\u001b[0;34m)\u001b[0m\u001b[0;34m\u001b[0m\u001b[0;34m\u001b[0m\u001b[0m\n",
      "\u001b[0;32m~/Desktop/US_Elections/venv/lib/python3.8/site-packages/plotly/express/_core.py\u001b[0m in \u001b[0;36mbuild_dataframe\u001b[0;34m(args, constructor)\u001b[0m\n\u001b[1;32m   1260\u001b[0m     \u001b[0mdf_provided\u001b[0m \u001b[0;34m=\u001b[0m \u001b[0margs\u001b[0m\u001b[0;34m[\u001b[0m\u001b[0;34m\"data_frame\"\u001b[0m\u001b[0;34m]\u001b[0m \u001b[0;32mis\u001b[0m \u001b[0;32mnot\u001b[0m \u001b[0;32mNone\u001b[0m\u001b[0;34m\u001b[0m\u001b[0;34m\u001b[0m\u001b[0m\n\u001b[1;32m   1261\u001b[0m     \u001b[0;32mif\u001b[0m \u001b[0mdf_provided\u001b[0m \u001b[0;32mand\u001b[0m \u001b[0;32mnot\u001b[0m \u001b[0misinstance\u001b[0m\u001b[0;34m(\u001b[0m\u001b[0margs\u001b[0m\u001b[0;34m[\u001b[0m\u001b[0;34m\"data_frame\"\u001b[0m\u001b[0;34m]\u001b[0m\u001b[0;34m,\u001b[0m \u001b[0mpd\u001b[0m\u001b[0;34m.\u001b[0m\u001b[0mDataFrame\u001b[0m\u001b[0;34m)\u001b[0m\u001b[0;34m:\u001b[0m\u001b[0;34m\u001b[0m\u001b[0;34m\u001b[0m\u001b[0m\n\u001b[0;32m-> 1262\u001b[0;31m         \u001b[0margs\u001b[0m\u001b[0;34m[\u001b[0m\u001b[0;34m\"data_frame\"\u001b[0m\u001b[0;34m]\u001b[0m \u001b[0;34m=\u001b[0m \u001b[0mpd\u001b[0m\u001b[0;34m.\u001b[0m\u001b[0mDataFrame\u001b[0m\u001b[0;34m(\u001b[0m\u001b[0margs\u001b[0m\u001b[0;34m[\u001b[0m\u001b[0;34m\"data_frame\"\u001b[0m\u001b[0;34m]\u001b[0m\u001b[0;34m)\u001b[0m\u001b[0;34m\u001b[0m\u001b[0;34m\u001b[0m\u001b[0m\n\u001b[0m\u001b[1;32m   1263\u001b[0m     \u001b[0mdf_input\u001b[0m \u001b[0;34m=\u001b[0m \u001b[0margs\u001b[0m\u001b[0;34m[\u001b[0m\u001b[0;34m\"data_frame\"\u001b[0m\u001b[0;34m]\u001b[0m\u001b[0;34m\u001b[0m\u001b[0;34m\u001b[0m\u001b[0m\n\u001b[1;32m   1264\u001b[0m \u001b[0;34m\u001b[0m\u001b[0m\n",
      "\u001b[0;32m~/Desktop/US_Elections/venv/lib/python3.8/site-packages/pandas/core/frame.py\u001b[0m in \u001b[0;36m__init__\u001b[0;34m(self, data, index, columns, dtype, copy)\u001b[0m\n\u001b[1;32m    500\u001b[0m         \u001b[0;32melif\u001b[0m \u001b[0misinstance\u001b[0m\u001b[0;34m(\u001b[0m\u001b[0mdata\u001b[0m\u001b[0;34m,\u001b[0m \u001b[0mabc\u001b[0m\u001b[0;34m.\u001b[0m\u001b[0mIterable\u001b[0m\u001b[0;34m)\u001b[0m \u001b[0;32mand\u001b[0m \u001b[0;32mnot\u001b[0m \u001b[0misinstance\u001b[0m\u001b[0;34m(\u001b[0m\u001b[0mdata\u001b[0m\u001b[0;34m,\u001b[0m \u001b[0;34m(\u001b[0m\u001b[0mstr\u001b[0m\u001b[0;34m,\u001b[0m \u001b[0mbytes\u001b[0m\u001b[0;34m)\u001b[0m\u001b[0;34m)\u001b[0m\u001b[0;34m:\u001b[0m\u001b[0;34m\u001b[0m\u001b[0;34m\u001b[0m\u001b[0m\n\u001b[1;32m    501\u001b[0m             \u001b[0;32mif\u001b[0m \u001b[0;32mnot\u001b[0m \u001b[0misinstance\u001b[0m\u001b[0;34m(\u001b[0m\u001b[0mdata\u001b[0m\u001b[0;34m,\u001b[0m \u001b[0;34m(\u001b[0m\u001b[0mabc\u001b[0m\u001b[0;34m.\u001b[0m\u001b[0mSequence\u001b[0m\u001b[0;34m,\u001b[0m \u001b[0mExtensionArray\u001b[0m\u001b[0;34m)\u001b[0m\u001b[0;34m)\u001b[0m\u001b[0;34m:\u001b[0m\u001b[0;34m\u001b[0m\u001b[0;34m\u001b[0m\u001b[0m\n\u001b[0;32m--> 502\u001b[0;31m                 \u001b[0mdata\u001b[0m \u001b[0;34m=\u001b[0m \u001b[0mlist\u001b[0m\u001b[0;34m(\u001b[0m\u001b[0mdata\u001b[0m\u001b[0;34m)\u001b[0m\u001b[0;34m\u001b[0m\u001b[0;34m\u001b[0m\u001b[0m\n\u001b[0m\u001b[1;32m    503\u001b[0m             \u001b[0;32mif\u001b[0m \u001b[0mlen\u001b[0m\u001b[0;34m(\u001b[0m\u001b[0mdata\u001b[0m\u001b[0;34m)\u001b[0m \u001b[0;34m>\u001b[0m \u001b[0;36m0\u001b[0m\u001b[0;34m:\u001b[0m\u001b[0;34m\u001b[0m\u001b[0;34m\u001b[0m\u001b[0m\n\u001b[1;32m    504\u001b[0m                 \u001b[0;32mif\u001b[0m \u001b[0mis_dataclass\u001b[0m\u001b[0;34m(\u001b[0m\u001b[0mdata\u001b[0m\u001b[0;34m[\u001b[0m\u001b[0;36m0\u001b[0m\u001b[0;34m]\u001b[0m\u001b[0;34m)\u001b[0m\u001b[0;34m:\u001b[0m\u001b[0;34m\u001b[0m\u001b[0;34m\u001b[0m\u001b[0m\n",
      "\u001b[0;31mValueError\u001b[0m: I/O operation on closed file."
     ]
    }
   ],
   "source": [
    "fig = px.choropleth(trump_update_csv,  # Input Pandas DataFrame\n",
    "                    locations=\"state\",  # DataFrame column with locations\n",
    "                    color=\"value\",  # DataFrame column with color values\n",
    "                    hover_name=\"state\", # DataFrame column hover info\n",
    "                    locationmode = 'USA-states') # Set to plot as US States\n",
    "fig.update_layout(\n",
    "    title_text = 'State Rankings', # Create a Title\n",
    "    geo_scope='usa',  # Plot only the USA instead of globe\n",
    ")\n",
    "fig.show() "
   ]
  },
  {
   "cell_type": "code",
   "execution_count": 13,
   "metadata": {},
   "outputs": [],
   "source": [
    "states = []\n",
    "\n",
    "trump_votes = []\n",
    "trump_percent = []\n",
    "\n",
    "\n",
    "for state in trumpcsv_adjusted.iloc[:,0]:\n",
    "    states.append(state)\n"
   ]
  },
  {
   "cell_type": "code",
   "execution_count": 75,
   "metadata": {},
   "outputs": [
    {
     "output_type": "stream",
     "name": "stdout",
     "text": [
      "nope\nnope\nnope\nnope\nnope\nnope\nnope\nnope\nnope\nnope\nnope\nnope\nnope\nnope\nnope\nnope\nnope\nnope\nnope\nnope\nnope\nnope\nnope\nnope\nnope\nnope\nnope\nnope\nnope\nnope\nnope\nnope\nnope\nnope\nnope\nnope\nnope\nnope\nnope\nnope\nnope\nnope\nnope\nnope\nnope\nnope\nnope\nnope\nnope\nnope\nnope\nnope\nnope\nnope\nnope\nnope\nnope\nnope\nnope\nnope\nnope\nnope\nnope\nnope\nnope\nnope\nnope\nnope\nnope\nnope\nnope\nnope\nnope\nnope\nnope\nnope\nnope\nnope\nnope\nnope\nnope\nnope\nnope\nnope\nnope\nnope\nnope\nnope\nnope\nnope\nnope\nnope\nnope\nnope\nnope\nnope\nnope\nnope\nnope\nnope\nnope\nnope\nnope\nnope\nnope\nnope\nnope\nnope\nnope\nnope\nnope\nnope\nnope\nnope\nnope\nnope\nnope\nnope\nnope\nnope\nnope\nnope\nnope\nnope\nnope\nnope\nnope\nnope\nnope\nnope\nnope\nnope\nnope\nnope\nnope\nnope\nnope\nnope\nnope\nnope\nnope\nnope\nnope\nnope\nnope\nnope\nnope\nnope\nnope\nnope\nnope\nnope\nnope\nnope\nnope\nnope\nnope\nnope\nnope\nnope\nnope\nnope\nnope\nnope\nnope\nnope\nnope\nnope\nnope\nnope\nnope\nnope\nnope\nnope\nnope\nnope\nnope\nnope\nnope\nnope\nnope\nnope\nnope\nnope\nnope\nnope\nnope\nnope\nnope\nnope\nnope\nnope\nnope\nnope\nnope\nnope\nnope\nnope\nnope\nnope\nnope\nnope\nnope\nnope\nnope\nnope\nnope\nnope\nnope\nnope\nnope\nnope\nnope\nnope\nnope\nnope\nnope\nnope\nnope\nnope\nnope\nnope\nnope\nnope\nnope\nnope\nnope\nnope\nnope\nnope\nnope\nnope\nnope\nnope\nnope\nnope\nnope\nnope\nnope\nnope\nnope\nnope\nnope\nnope\nnope\nnope\nnope\nnope\nnope\nnope\nnope\nnope\nnope\nnope\nnope\nnope\nnope\nnope\nnope\nnope\nnope\nnope\nnope\nnope\nnope\nnope\nnope\nnope\nnope\nnope\nnope\nnope\nnope\nnope\nnope\nnope\nnope\nnope\nnope\nnope\nnope\nnope\nnope\nnope\nnope\nnope\nnope\nnope\nnope\nnope\nnope\nnope\nnope\nnope\nnope\nnope\nnope\nnope\nnope\nnope\nnope\nnope\nnope\nnope\nnope\nnope\nnope\nnope\nnope\nnope\nnope\nnope\nnope\nnope\nnope\nnope\nnope\nnope\nnope\nnope\nnope\nnope\nnope\nnope\nnope\nnope\nnope\nnope\nnope\nnope\nnope\nnope\nnope\nnope\nnope\nnope\nnope\nnope\nnope\nnope\nnope\nnope\nnope\nnope\nnope\nnope\nnope\nnope\nnope\nnope\nnope\nnope\nnope\nnope\nnope\nnope\nnope\nnope\nnope\nnope\nnope\nnope\nnope\nnope\nnope\nnope\nnope\nnope\nnope\nnope\nnope\nnope\nnope\nnope\nnope\nnope\nnope\nnope\nnope\nnope\nnope\nnope\nnope\nnope\nnope\nnope\nnope\nnope\nnope\nnope\nnope\nnope\nnope\nnope\nnope\nnope\nnope\nnope\nnope\nnope\nnope\nnope\nnope\nnope\nnope\nnope\nnope\nnope\nnope\nnope\nnope\nnope\nnope\nnope\nnope\nnope\nnope\nnope\nnope\nnope\nnope\nnope\nnope\nnope\nnope\nnope\nnope\nnope\nnope\nnope\nnope\nnope\nnope\nnope\nnope\nnope\nnope\nnope\nnope\nnope\nnope\nnope\nnope\nnope\nnope\nnope\nnope\nnope\nnope\nnope\nnope\nnope\nnope\nnope\nnope\nnope\nnope\nnope\nnope\nnope\nnope\nnope\nnope\nnope\nnope\nnope\nnope\nnope\nnope\nnope\nnope\nnope\nnope\nnope\nnope\nnope\nnope\nnope\nnope\nnope\nnope\nnope\nnope\nnope\nnope\nnope\nnope\nnope\nnope\nnope\nnope\nnope\nnope\nnope\nnope\nnope\nnope\nnope\nnope\nnope\nnope\nnope\nnope\nnope\nnope\nnope\nnope\nnope\nnope\nnope\nnope\nnope\nnope\nnope\nnope\nnope\nnope\nnope\nnope\nnope\nnope\nnope\nnope\nnope\nnope\nnope\nnope\nnope\nnope\nnope\nnope\nnope\nnope\nnope\nnope\nnope\nnope\nnope\nnope\nnope\nnope\nnope\nnope\nnope\nnope\nnope\nnope\nnope\nnope\nnope\nnope\nnope\nnope\nnope\nnope\nnope\nnope\nnope\nnope\nnope\nnope\nnope\nnope\nnope\nnope\nnope\nnope\nnope\nnope\nnope\nnope\nnope\nnope\nnope\nnope\nnope\nnope\nnope\nnope\nnope\nnope\nnope\nnope\nnope\nnope\nnope\nnope\nnope\nnope\nnope\nnope\nnope\nnope\nnope\nnope\nnope\nnope\nnope\nnope\nnope\nnope\nnope\nnope\nnope\nnope\nnope\nnope\nnope\nnope\nnope\nnope\nnope\nnope\nnope\nnope\nnope\nnope\nnope\nnope\nnope\nnope\nnope\nnope\nnope\nnope\nnope\nnope\nnope\nnope\nnope\nnope\nnope\nnope\nnope\nnope\nnope\nnope\nnope\nnope\nnope\nnope\nnope\nnope\nnope\nnope\nnope\nnope\nnope\nnope\nnope\nnope\nnope\nnope\nnope\nnope\nnope\nnope\nnope\nnope\nnope\nnope\nnope\nnope\nnope\nnope\nnope\nnope\nnope\nnope\nnope\nnope\nnope\nnope\nnope\nnope\nnope\nnope\nnope\nnope\nnope\nnope\nnope\nnope\nnope\nnope\nnope\nnope\nnope\nnope\nnope\nnope\nnope\nnope\nnope\nnope\nnope\nnope\nnope\nnope\nnope\nnope\nnope\nnope\nnope\nnope\nnope\nnope\nnope\nnope\nnope\nnope\nnope\nnope\nnope\nnope\nnope\nnope\nnope\nnope\nnope\nnope\nnope\nnope\nnope\nnope\nnope\nnope\nnope\nnope\nnope\nnope\nnope\nnope\nnope\nnope\nnope\nnope\nnope\nnope\nnope\nnope\nnope\nnope\nnope\nnope\nnope\nnope\nnope\nnope\nnope\nnope\nnope\nnope\nnope\nnope\nnope\nnope\nnope\nnope\nnope\nnope\nnope\nnope\nnope\nnope\nnope\nnope\nnope\nnope\nnope\nnope\nnope\nnope\nnope\nnope\nnope\nnope\nnope\nnope\nnope\nnope\nnope\nnope\nnope\nnope\nnope\nnope\nnope\nnope\nnope\nnope\nnope\nnope\nnope\nnope\nnope\nnope\nnope\nnope\nnope\nnope\nnope\nnope\nnope\nnope\nnope\nnope\nnope\nnope\nnope\nnope\nnope\nnope\nnope\nnope\nnope\nnope\nnope\nnope\nnope\nnope\nnope\nnope\nnope\nnope\nnope\nnope\nnope\nnope\nnope\nnope\nnope\nnope\nnope\nnope\nnope\nnope\nnope\nnope\nnope\nnope\nnope\nnope\nnope\nnope\nnope\nnope\nnope\nnope\nnope\nnope\nnope\nnope\nnope\nnope\nnope\nnope\nnope\nnope\nnope\nnope\nnope\nnope\nnope\nnope\nnope\nnope\nnope\nnope\nnope\nnope\nnope\nnope\nnope\nnope\nnope\nnope\nnope\nnope\nnope\nnope\nnope\nnope\nnope\nnope\nnope\nnope\nnope\nnope\nnope\nnope\nnope\nnope\nnope\nnope\nnope\nnope\nnope\nnope\nnope\nnope\nnope\nnope\nnope\nnope\nnope\nnope\nnope\nnope\nnope\nnope\nnope\nnope\nnope\nnope\nnope\nnope\nnope\nnope\nnope\nnope\nnope\nnope\nnope\nnope\nnope\nnope\nnope\nnope\nnope\nnope\nnope\nnope\nnope\nnope\nnope\nnope\nnope\nnope\nnope\nnope\nnope\nnope\nnope\nnope\nnope\nnope\nnope\nnope\nnope\nnope\nnope\nnope\nnope\nnope\nnope\nnope\nnope\nnope\nnope\nnope\nnope\nnope\nnope\nnope\nnope\nnope\nnope\nnope\nnope\nnope\nnope\nnope\nnope\nnope\nnope\nnope\nnope\nnope\nnope\nnope\nnope\nnope\nnope\nnope\nnope\nnope\nnope\nnope\nnope\nnope\nnope\nnope\nnope\nnope\nnope\nnope\nnope\nnope\nnope\nnope\nnope\nnope\nnope\nnope\nnope\nnope\nnope\nnope\nnope\nnope\nnope\nnope\nnope\nnope\nnope\nnope\nnope\nnope\nnope\nnope\nnope\nnope\nnope\nnope\nnope\nnope\nnope\nnope\nnope\nnope\nnope\nnope\nnope\nnope\nnope\nnope\nnope\nnope\nnope\nnope\nnope\nnope\nnope\nnope\nnope\nnope\nnope\nnope\nnope\nnope\nnope\nnope\nnope\nnope\nnope\nnope\nnope\nnope\nnope\nnope\nnope\nnope\nnope\nnope\nnope\nnope\nnope\nnope\nnope\nnope\nnope\nnope\nnope\nnope\nnope\nnope\nnope\nnope\nnope\nnope\nnope\nnope\nnope\nnope\nnope\nnope\nnope\nnope\nnope\nnope\nnope\nnope\nnope\nnope\nnope\nnope\nnope\nnope\nnope\nnope\nnope\nnope\nnope\nnope\nnope\nnope\nnope\nnope\nnope\nnope\nnope\nnope\nnope\nnope\nnope\nnope\nnope\nnope\nnope\nnope\nnope\nnope\nnope\nnope\nnope\nnope\nnope\nnope\nnope\nnope\nnope\nnope\nnope\nnope\nnope\nnope\nnope\nnope\nnope\nnope\nnope\nnope\nnope\nnope\nnope\nnope\nnope\nnope\nnope\nnope\nnope\nnope\nnope\nnope\nnope\nnope\nnope\nnope\nnope\nnope\nnope\nnope\nnope\nnope\nnope\nnope\nnope\nnope\nnope\nnope\nnope\nnope\nnope\nnope\nnope\nnope\nnope\nnope\nnope\nnope\nnope\nnope\nnope\nnope\nnope\nnope\nnope\nnope\nnope\nnope\nnope\nnope\nnope\nnope\nnope\nnope\nnope\nnope\nnope\nnope\nnope\nnope\nnope\nnope\nnope\nnope\nnope\nnope\nnope\nnope\nnope\nnope\nnope\nnope\nnope\nnope\nnope\nnope\nnope\nnope\nnope\nnope\nnope\nnope\nnope\nnope\nnope\nnope\nnope\nnope\nnope\nnope\nnope\nnope\nnope\nnope\nnope\nnope\nnope\nnope\nnope\nnope\nnope\nnope\nnope\nnope\nnope\nnope\nnope\nnope\nnope\nnope\nnope\nnope\nnope\nnope\nnope\nnope\nnope\nnope\nnope\nnope\nnope\nnope\nnope\nnope\nnope\nnope\nnope\nnope\nnope\nnope\nnope\nnope\nnope\nnope\nnope\nnope\nnope\nnope\nnope\nnope\nnope\nnope\nnope\nnope\nnope\nnope\nnope\nnope\nnope\nnope\nnope\nnope\nnope\nnope\nnope\nnope\nnope\nnope\nnope\nnope\nnope\nnope\nnope\nnope\nnope\nnope\nnope\nnope\nnope\nnope\nnope\nnope\nnope\nnope\nnope\nnope\nnope\nnope\nnope\nnope\nnope\nnope\nnope\nnope\nnope\nnope\nnope\nnope\nnope\nnope\nnope\nnope\nnope\nnope\nnope\nnope\nnope\nnope\nnope\nnope\nnope\nnope\nnope\nnope\nnope\nnope\nnope\nnope\nnope\nnope\nnope\nnope\nnope\nnope\nnope\nnope\nnope\nnope\nnope\nnope\nnope\nnope\nnope\nnope\nnope\nnope\nnope\nnope\nnope\nnope\nnope\nnope\nnope\nnope\nnope\nnope\nnope\nnope\nnope\nnope\nnope\nnope\nnope\nnope\nnope\nnope\nnope\nnope\nnope\nnope\nnope\nnope\nnope\nnope\nnope\nnope\nnope\nnope\nnope\nnope\nnope\nnope\nnope\nnope\nnope\nnope\nnope\nnope\nnope\nnope\nnope\nnope\nnope\nnope\nnope\nnope\nnope\nnope\nnope\nnope\nnope\nnope\nnope\nnope\nnope\nnope\nnope\nnope\nnope\nnope\nnope\nnope\nnope\nnope\nnope\nnope\nnope\nnope\nnope\nnope\nnope\nnope\nnope\nnope\nnope\nnope\nnope\nnope\nnope\nnope\nnope\nnope\nnope\nnope\nnope\nnope\nnope\nnope\nnope\nnope\nnope\nnope\nnope\nnope\nnope\nnope\nnope\nnope\nnope\nnope\nnope\nnope\nnope\nnope\nnope\nnope\nnope\nnope\nnope\nnope\nnope\nnope\nnope\nnope\nnope\nnope\nnope\nnope\nnope\nnope\nnope\nnope\nnope\nnope\nnope\nnope\nnope\nnope\nnope\nnope\nnope\nnope\nnope\nnope\nnope\nnope\nnope\nnope\nnope\nnope\nnope\nnope\nnope\nnope\nnope\nnope\nnope\nnope\nnope\nnope\nnope\nnope\nnope\nnope\nnope\nnope\nnope\nnope\nnope\nnope\nnope\nnope\nnope\nnope\nnope\nnope\nnope\nnope\nnope\nnope\nnope\nnope\nnope\nnope\nnope\nnope\nnope\nnope\nnope\nnope\nnope\nnope\nnope\nnope\nnope\nnope\nnope\nnope\nnope\nnope\nnope\nnope\nnope\nnope\nnope\nnope\nnope\nnope\nnope\nnope\nnope\nnope\nnope\nnope\nnope\nnope\nnope\nnope\nnope\nnope\nnope\nnope\nnope\nnope\nnope\nnope\nnope\nnope\nnope\nnope\nnope\nnope\nnope\nnope\nnope\nnope\nnope\nnope\nnope\nnope\nnope\nnope\nnope\nnope\nnope\nnope\nnope\nnope\nnope\nnope\nnope\nnope\nnope\nnope\nnope\nnope\nnope\nnope\nnope\nnope\nnope\nnope\nnope\nnope\nnope\nnope\nnope\nnope\nnope\nnope\nnope\nnope\nnope\nnope\nnope\nnope\nnope\nnope\nnope\nnope\nnope\nnope\nnope\nnope\nnope\nnope\nnope\nnope\nnope\nnope\nnope\nnope\nnope\nnope\nnope\nnope\nnope\nnope\nnope\nnope\nnope\nnope\nnope\nnope\nnope\nnope\nnope\nnope\nnope\nnope\nnope\nnope\nnope\nnope\nnope\nnope\nnope\nnope\nnope\nnope\nnope\nnope\nnope\nnope\nnope\nnope\nnope\nnope\nnope\nnope\nnope\nnope\nnope\nnope\nnope\nnope\nnope\nnope\nnope\nnope\nnope\nnope\nnope\nnope\nnope\nnope\nnope\nnope\nnope\nnope\nnope\nnope\nnope\nnope\nnope\nnope\nnope\nnope\nnope\nnope\nnope\nnope\nnope\nnope\nnope\nnope\nnope\nnope\nnope\nnope\nnope\nnope\nnope\nnope\nnope\nnope\nnope\nnope\nnope\nnope\nnope\nnope\nnope\nnope\nnope\nnope\nnope\nnope\nnope\nnope\nnope\nnope\nnope\nnope\nnope\nnope\nnope\nnope\nnope\nnope\nnope\nnope\nnope\nnope\nnope\nnope\nnope\nnope\nnope\nnope\nnope\nnope\nnope\nnope\nnope\nnope\nnope\nnope\nnope\nnope\nnope\nnope\nnope\nnope\nnope\nnope\nnope\nnope\nnope\nnope\nnope\nnope\nnope\nnope\nnope\nnope\nnope\nnope\nnope\nnope\nnope\nnope\nnope\nnope\nnope\nnope\nnope\nnope\nnope\nnope\nnope\nnope\nnope\nnope\nnope\nnope\nnope\nnope\nnope\nnope\nnope\nnope\nnope\nnope\nnope\nnope\nnope\nnope\nnope\nnope\nnope\nnope\nnope\nnope\nnope\nnope\nnope\nnope\nnope\nnope\nnope\nnope\nnope\nnope\nnope\nnope\nnope\nnope\nnope\nnope\nnope\nnope\nnope\nnope\nnope\nnope\nnope\nnope\nnope\nnope\nnope\nnope\nnope\nnope\nnope\nnope\nnope\nnope\nnope\nnope\nnope\nnope\nnope\nnope\nnope\nnope\nnope\nnope\nnope\nnope\nnope\nnope\nnope\nnope\nnope\nnope\nnope\nnope\nnope\nnope\nnope\nnope\nnope\nnope\nnope\nnope\nnope\nnope\nnope\nnope\nnope\nnope\nnope\nnope\nnope\nnope\nnope\nnope\nnope\nnope\nnope\nnope\nnope\nnope\nnope\nnope\nnope\nnope\nnope\nnope\nnope\nnope\nnope\nnope\nnope\nnope\nnope\nnope\nnope\nnope\nnope\nnope\nnope\nnope\nnope\nnope\nnope\nnope\nnope\nnope\nnope\nnope\nnope\nnope\nnope\nnope\nnope\nnope\nnope\nnope\nnope\nnope\nnope\nnope\nnope\nnope\nnope\nnope\nnope\nnope\nnope\nnope\nnope\nnope\nnope\nnope\nnope\nnope\nnope\nnope\nnope\nnope\nnope\nnope\nnope\nnope\nnope\nnope\nnope\nnope\nnope\nnope\nnope\nnope\nnope\nnope\nnope\nnope\nnope\nnope\nnope\nnope\nnope\nnope\nnope\nnope\nnope\nnope\nnope\nnope\nnope\nnope\nnope\nnope\nnope\nnope\nnope\nnope\nnope\nnope\nnope\nnope\nnope\nnope\nnope\nnope\nnope\nnope\nnope\nnope\nnope\nnope\nnope\nnope\nnope\nnope\nnope\nnope\nnope\nnope\nnope\nnope\nnope\nnope\nnope\nnope\nnope\nnope\nnope\nnope\nnope\nnope\nnope\nnope\nnope\nnope\nnope\nnope\nnope\nnope\nnope\nnope\nnope\nnope\nnope\nnope\nnope\nnope\nnope\nnope\nnope\nnope\nnope\nnope\nnope\nnope\nnope\nnope\nnope\nnope\nnope\nnope\nnope\nnope\nnope\nnope\nnope\nnope\nnope\nnope\nnope\nnope\nnope\nnope\nnope\nnope\nnope\nnope\nnope\nnope\nnope\nnope\nnope\nnope\nnope\nnope\nnope\nnope\nnope\nnope\nnope\nnope\nnope\nnope\nnope\nnope\nnope\nnope\nnope\nnope\nnope\nnope\nnope\nnope\nnope\nnope\nnope\nnope\nnope\nnope\nnope\nnope\nnope\nnope\nnope\nnope\nnope\nnope\nnope\nnope\nnope\nnope\nnope\nnope\nnope\nnope\nnope\nnope\nnope\nnope\nnope\nnope\nnope\nnope\nnope\nnope\nnope\nnope\nnope\nnope\nnope\nnope\nnope\nnope\nnope\nnope\nnope\nnope\nnope\nnope\nnope\nnope\nnope\nnope\nnope\nnope\nnope\nnope\nnope\nnope\nnope\nnope\nnope\nnope\nnope\nnope\nnope\nnope\nnope\nnope\nnope\nnope\nnope\nnope\nnope\nnope\nnope\nnope\nnope\nnope\nnope\nnope\nnope\nnope\nnope\nnope\nnope\nnope\nnope\nnope\nnope\nnope\nnope\nnope\nnope\nnope\nnope\nnope\nnope\nnope\nnope\nnope\nnope\nnope\nnope\nnope\nnope\nnope\nnope\nnope\nnope\nnope\nnope\nnope\nnope\nnope\nnope\nnope\nnope\nnope\nnope\nnope\nnope\nnope\nnope\nnope\nnope\nnope\nnope\nnope\nnope\nnope\nnope\nnope\nnope\nnope\nnope\nnope\nnope\nnope\nnope\nnope\nnope\nnope\nnope\nnope\nnope\nnope\nnope\nnope\nnope\nnope\nnope\nnope\nnope\nnope\nnope\nnope\nnope\nnope\nnope\nnope\nnope\nnope\nnope\nnope\nnope\nnope\nnope\nnope\nnope\nnope\nnope\nnope\nnope\nnope\nnope\nnope\nnope\nnope\nnope\nnope\nnope\nnope\nnope\nnope\nnope\nnope\nnope\nnope\nnope\nnope\nnope\nnope\nnope\nnope\nnope\nnope\nnope\nnope\nnope\nnope\nnope\nnope\nnope\nnope\nnope\nnope\nnope\nnope\nnope\nnope\nnope\nnope\nnope\nnope\nnope\nnope\nnope\nnope\nnope\nnope\nnope\nnope\nnope\nnope\nnope\nnope\nnope\nnope\nnope\nnope\nnope\nnope\nnope\nnope\nnope\nnope\nnope\nnope\nnope\nnope\nnope\nnope\nnope\nnope\nnope\nnope\nnope\nnope\nnope\nnope\nnope\nnope\nnope\nnope\nnope\nnope\nnope\nnope\nnope\nnope\nnope\nnope\nnope\nnope\nnope\nnope\nnope\nnope\nnope\nnope\nnope\nnope\nnope\nnope\nnope\nnope\nnope\nnope\nnope\nnope\nnope\nnope\nnope\nnope\nnope\nnope\nnope\nnope\nnope\nnope\nnope\nnope\nnope\nnope\nnope\nnope\nnope\nnope\nnope\nnope\nnope\nnope\nnope\nnope\nnope\nnope\nnope\nnope\nnope\nnope\nnope\nnope\nnope\nnope\nnope\nnope\nnope\nnope\nnope\nnope\nnope\nnope\nnope\nnope\nnope\nnope\nnope\nnope\nnope\nnope\nnope\nnope\nnope\nnope\nnope\nnope\nnope\nnope\nnope\nnope\nnope\nnope\nnope\nnope\nnope\nnope\nnope\nnope\nnope\nnope\nnope\nnope\nnope\nnope\nnope\nnope\nnope\nnope\nnope\nnope\nnope\nnope\nnope\nnope\nnope\nnope\nnope\nnope\nnope\nnope\nnope\nnope\nnope\nnope\nnope\nnope\nnope\nnope\nnope\nnope\nnope\nnope\nnope\nnope\nnope\nnope\nnope\nnope\nnope\nnope\nnope\nnope\nnope\nnope\nnope\nnope\nnope\nnope\nnope\nnope\nnope\nnope\nnope\nnope\nnope\nnope\nnope\nnope\nnope\nnope\nnope\nnope\nnope\nnope\nnope\nnope\nnope\nnope\nnope\nnope\nnope\nnope\nnope\nnope\nnope\nnope\nnope\nnope\nnope\nnope\nnope\nnope\nnope\nnope\nnope\nnope\nnope\nnope\nnope\nnope\nnope\nnope\nnope\nnope\nnope\nnope\nnope\nnope\nnope\nnope\nnope\nnope\nnope\nnope\nnope\nnope\nnope\nnope\nnope\nnope\nnope\nnope\nnope\nnope\nnope\nnope\nnope\nnope\nnope\nnope\nnope\nnope\nnope\nnope\nnope\nnope\nnope\nnope\nnope\nnope\nnope\nnope\nnope\nnope\nnope\nnope\nnope\nnope\nnope\nnope\nnope\nnope\nnope\nnope\nnope\nnope\nnope\nnope\nnope\nnope\nnope\nnope\nnope\nnope\nnope\nnope\nnope\nnope\nnope\nnope\nnope\nnope\nnope\nnope\nnope\nnope\nnope\nnope\nnope\nnope\nnope\nnope\nnope\nnope\nnope\nnope\nnope\nnope\nnope\nnope\nnope\nnope\nnope\nnope\nnope\nnope\nnope\nnope\nnope\nnope\nnope\nnope\nnope\nnope\nnope\nnope\nnope\nnope\nnope\nnope\nnope\nnope\nnope\nnope\nnope\nnope\nnope\nnope\nnope\nnope\nnope\nnope\nnope\nnope\nnope\nnope\nnope\nnope\nnope\nnope\nnope\nnope\nnope\nnope\nnope\nnope\nnope\nnope\nnope\nnope\nnope\nnope\nnope\nnope\nnope\nnope\nnope\nnope\nnope\nnope\nnope\nnope\nnope\nnope\nnope\nnope\nnope\nnope\nnope\nnope\nnope\nnope\nnope\nnope\nnope\nnope\nnope\nnope\nnope\nnope\nnope\nnope\nnope\nnope\nnope\nnope\nnope\nnope\nnope\nnope\nnope\nnope\nnope\nnope\nnope\nnope\nnope\nnope\nnope\nnope\nnope\nnope\nnope\nnope\nnope\nnope\nnope\nnope\nnope\nnope\nnope\nnope\nnope\nnope\nnope\nnope\nnope\nnope\nnope\nnope\nnope\nnope\nnope\nnope\nnope\nnope\nnope\nnope\nnope\nnope\nnope\nnope\nnope\nnope\nnope\nnope\nnope\nnope\nnope\nnope\nnope\nnope\nnope\nnope\nnope\nnope\nnope\nnope\nnope\nnope\nnope\nnope\nnope\nnope\nnope\nnope\nnope\nnope\nnope\nnope\nnope\n"
     ]
    }
   ],
   "source": [
    "# for items in trumpcsv_adjusted.iloc[:,0]:\n",
    "#     print(items)\n",
    "#     # state_list = states_data.values.tolist()\n",
    "#     if states_data['NAME'].tolist() == items:\n",
    "#         pass\n",
    "#     else:\n",
    "#         print(items + ' Not in list')\n",
    "\n",
    "\n",
    "for items in trumpcsv_adjusted.iloc[:,0]:\n",
    "    for states in states_data['NAME']:\n",
    "        if items == states:\n",
    "            pass\n",
    "        else:\n",
    "            print(\"nope\")"
   ]
  },
  {
   "cell_type": "code",
   "execution_count": 37,
   "metadata": {},
   "outputs": [
    {
     "name": "stdout",
     "output_type": "stream",
     "text": [
      "['1,441,170', '189,543', '1,661,686', '760,647', '5,982,194', '1,364,471', '715,291', '200,603', '5,668,731', '2,461,837', '196,602', '554,128', '2,438,943', '1,729,516', '897,672', '752,933', '1,326,646', '1,255,776', '360,480', '976,414', '1,167,202', '2,649,852', '1,484,065', '756,789', '1,718,282', '343,647', '556,846', '669,890', '365,660', '1,883,260', '401,894', '3,039,466', '2,758,775', '235,595', '3,154,834', '1,020,280', '958,448', '3,378,263', '199,922', '1,385,103', '261,043', '1,849,556', '5,890,347', '865,140', '112,704', '1,962,430', '1,584,651', '18,586', '545,382', '1,610,184', '193,559']\n"
     ]
    }
   ],
   "source": [
    "states = []\n",
    "\n",
    "trump_votes = []\n",
    "\n",
    "trump_percent = []\n",
    "#get each column value\n",
    "for state in trumpcsv_adjusted.iloc[:,0]:\n",
    "    states.append(state)\n",
    "\n",
    "\n",
    "for vote in trumpcsv_adjusted.iloc[:,1]:\n",
    "    trump_votes.append(vote)\n",
    "\n",
    "\n",
    "for percent in trumpcsv_adjusted.iloc[:,2]:\n",
    "    trump_percent.append(percent)\n",
    "\n",
    "\n",
    "biden_votes = []\n",
    "biden_percent = []\n",
    "\n",
    "for vote in bidencsv_adjusted.iloc[:,1]:\n",
    "    biden_votes.append(vote)\n",
    "\n",
    "\n",
    "for percent in bidencsv_adjusted.iloc[:,2]:\n",
    "    biden_percent.append(percent)\n",
    "#trump_votes_float = [float(item) for item in trump_votes]\n",
    "\n",
    "\n"
   ]
  },
  {
   "cell_type": "code",
   "execution_count": 40,
   "metadata": {},
   "outputs": [
    {
     "ename": "ValueError",
     "evalue": "could not convert string to float: '1.441.170'",
     "output_type": "error",
     "traceback": [
      "\u001b[0;31m---------------------------------------------------------------------------\u001b[0m",
      "\u001b[0;31mValueError\u001b[0m                                Traceback (most recent call last)",
      "\u001b[0;32m<ipython-input-40-d355a7c542d5>\u001b[0m in \u001b[0;36m<module>\u001b[0;34m\u001b[0m\n\u001b[1;32m      4\u001b[0m \u001b[0;31m# votes = x.astype(np.float)\u001b[0m\u001b[0;34m\u001b[0m\u001b[0;34m\u001b[0m\u001b[0;34m\u001b[0m\u001b[0m\n\u001b[1;32m      5\u001b[0m \u001b[0;34m\u001b[0m\u001b[0m\n\u001b[0;32m----> 6\u001b[0;31m \u001b[0mplt\u001b[0m\u001b[0;34m.\u001b[0m\u001b[0mpie\u001b[0m\u001b[0;34m(\u001b[0m\u001b[0mtrump_values_dot\u001b[0m\u001b[0;34m,\u001b[0m \u001b[0mlabels\u001b[0m\u001b[0;34m=\u001b[0m\u001b[0mstates\u001b[0m\u001b[0;34m)\u001b[0m\u001b[0;34m\u001b[0m\u001b[0;34m\u001b[0m\u001b[0m\n\u001b[0m\u001b[1;32m      7\u001b[0m \u001b[0mplt\u001b[0m\u001b[0;34m.\u001b[0m\u001b[0mtitle\u001b[0m\u001b[0;34m(\u001b[0m\u001b[0;34m\"Trump Election chart by votes\"\u001b[0m\u001b[0;34m)\u001b[0m\u001b[0;34m\u001b[0m\u001b[0;34m\u001b[0m\u001b[0m\n",
      "\u001b[0;32m~/Desktop/US_Elections/venv/lib/python3.8/site-packages/matplotlib/pyplot.py\u001b[0m in \u001b[0;36mpie\u001b[0;34m(x, explode, labels, colors, autopct, pctdistance, shadow, labeldistance, startangle, radius, counterclock, wedgeprops, textprops, center, frame, rotatelabels, normalize, data)\u001b[0m\n\u001b[1;32m   2825\u001b[0m         \u001b[0mtextprops\u001b[0m\u001b[0;34m=\u001b[0m\u001b[0;32mNone\u001b[0m\u001b[0;34m,\u001b[0m \u001b[0mcenter\u001b[0m\u001b[0;34m=\u001b[0m\u001b[0;34m(\u001b[0m\u001b[0;36m0\u001b[0m\u001b[0;34m,\u001b[0m \u001b[0;36m0\u001b[0m\u001b[0;34m)\u001b[0m\u001b[0;34m,\u001b[0m \u001b[0mframe\u001b[0m\u001b[0;34m=\u001b[0m\u001b[0;32mFalse\u001b[0m\u001b[0;34m,\u001b[0m\u001b[0;34m\u001b[0m\u001b[0;34m\u001b[0m\u001b[0m\n\u001b[1;32m   2826\u001b[0m         rotatelabels=False, *, normalize=None, data=None):\n\u001b[0;32m-> 2827\u001b[0;31m     return gca().pie(\n\u001b[0m\u001b[1;32m   2828\u001b[0m         \u001b[0mx\u001b[0m\u001b[0;34m,\u001b[0m \u001b[0mexplode\u001b[0m\u001b[0;34m=\u001b[0m\u001b[0mexplode\u001b[0m\u001b[0;34m,\u001b[0m \u001b[0mlabels\u001b[0m\u001b[0;34m=\u001b[0m\u001b[0mlabels\u001b[0m\u001b[0;34m,\u001b[0m \u001b[0mcolors\u001b[0m\u001b[0;34m=\u001b[0m\u001b[0mcolors\u001b[0m\u001b[0;34m,\u001b[0m\u001b[0;34m\u001b[0m\u001b[0;34m\u001b[0m\u001b[0m\n\u001b[1;32m   2829\u001b[0m         \u001b[0mautopct\u001b[0m\u001b[0;34m=\u001b[0m\u001b[0mautopct\u001b[0m\u001b[0;34m,\u001b[0m \u001b[0mpctdistance\u001b[0m\u001b[0;34m=\u001b[0m\u001b[0mpctdistance\u001b[0m\u001b[0;34m,\u001b[0m \u001b[0mshadow\u001b[0m\u001b[0;34m=\u001b[0m\u001b[0mshadow\u001b[0m\u001b[0;34m,\u001b[0m\u001b[0;34m\u001b[0m\u001b[0;34m\u001b[0m\u001b[0m\n",
      "\u001b[0;32m~/Desktop/US_Elections/venv/lib/python3.8/site-packages/matplotlib/__init__.py\u001b[0m in \u001b[0;36minner\u001b[0;34m(ax, data, *args, **kwargs)\u001b[0m\n\u001b[1;32m   1445\u001b[0m     \u001b[0;32mdef\u001b[0m \u001b[0minner\u001b[0m\u001b[0;34m(\u001b[0m\u001b[0max\u001b[0m\u001b[0;34m,\u001b[0m \u001b[0;34m*\u001b[0m\u001b[0margs\u001b[0m\u001b[0;34m,\u001b[0m \u001b[0mdata\u001b[0m\u001b[0;34m=\u001b[0m\u001b[0;32mNone\u001b[0m\u001b[0;34m,\u001b[0m \u001b[0;34m**\u001b[0m\u001b[0mkwargs\u001b[0m\u001b[0;34m)\u001b[0m\u001b[0;34m:\u001b[0m\u001b[0;34m\u001b[0m\u001b[0;34m\u001b[0m\u001b[0m\n\u001b[1;32m   1446\u001b[0m         \u001b[0;32mif\u001b[0m \u001b[0mdata\u001b[0m \u001b[0;32mis\u001b[0m \u001b[0;32mNone\u001b[0m\u001b[0;34m:\u001b[0m\u001b[0;34m\u001b[0m\u001b[0;34m\u001b[0m\u001b[0m\n\u001b[0;32m-> 1447\u001b[0;31m             \u001b[0;32mreturn\u001b[0m \u001b[0mfunc\u001b[0m\u001b[0;34m(\u001b[0m\u001b[0max\u001b[0m\u001b[0;34m,\u001b[0m \u001b[0;34m*\u001b[0m\u001b[0mmap\u001b[0m\u001b[0;34m(\u001b[0m\u001b[0msanitize_sequence\u001b[0m\u001b[0;34m,\u001b[0m \u001b[0margs\u001b[0m\u001b[0;34m)\u001b[0m\u001b[0;34m,\u001b[0m \u001b[0;34m**\u001b[0m\u001b[0mkwargs\u001b[0m\u001b[0;34m)\u001b[0m\u001b[0;34m\u001b[0m\u001b[0;34m\u001b[0m\u001b[0m\n\u001b[0m\u001b[1;32m   1448\u001b[0m \u001b[0;34m\u001b[0m\u001b[0m\n\u001b[1;32m   1449\u001b[0m         \u001b[0mbound\u001b[0m \u001b[0;34m=\u001b[0m \u001b[0mnew_sig\u001b[0m\u001b[0;34m.\u001b[0m\u001b[0mbind\u001b[0m\u001b[0;34m(\u001b[0m\u001b[0max\u001b[0m\u001b[0;34m,\u001b[0m \u001b[0;34m*\u001b[0m\u001b[0margs\u001b[0m\u001b[0;34m,\u001b[0m \u001b[0;34m**\u001b[0m\u001b[0mkwargs\u001b[0m\u001b[0;34m)\u001b[0m\u001b[0;34m\u001b[0m\u001b[0;34m\u001b[0m\u001b[0m\n",
      "\u001b[0;32m~/Desktop/US_Elections/venv/lib/python3.8/site-packages/matplotlib/axes/_axes.py\u001b[0m in \u001b[0;36mpie\u001b[0;34m(self, x, explode, labels, colors, autopct, pctdistance, shadow, labeldistance, startangle, radius, counterclock, wedgeprops, textprops, center, frame, rotatelabels, normalize)\u001b[0m\n\u001b[1;32m   2993\u001b[0m         \u001b[0;31m# The use of float32 is \"historical\", but can't be changed without\u001b[0m\u001b[0;34m\u001b[0m\u001b[0;34m\u001b[0m\u001b[0;34m\u001b[0m\u001b[0m\n\u001b[1;32m   2994\u001b[0m         \u001b[0;31m# regenerating the test baselines.\u001b[0m\u001b[0;34m\u001b[0m\u001b[0;34m\u001b[0m\u001b[0;34m\u001b[0m\u001b[0m\n\u001b[0;32m-> 2995\u001b[0;31m         \u001b[0mx\u001b[0m \u001b[0;34m=\u001b[0m \u001b[0mnp\u001b[0m\u001b[0;34m.\u001b[0m\u001b[0masarray\u001b[0m\u001b[0;34m(\u001b[0m\u001b[0mx\u001b[0m\u001b[0;34m,\u001b[0m \u001b[0mnp\u001b[0m\u001b[0;34m.\u001b[0m\u001b[0mfloat32\u001b[0m\u001b[0;34m)\u001b[0m\u001b[0;34m\u001b[0m\u001b[0;34m\u001b[0m\u001b[0m\n\u001b[0m\u001b[1;32m   2996\u001b[0m         \u001b[0;32mif\u001b[0m \u001b[0mx\u001b[0m\u001b[0;34m.\u001b[0m\u001b[0mndim\u001b[0m \u001b[0;34m>\u001b[0m \u001b[0;36m1\u001b[0m\u001b[0;34m:\u001b[0m\u001b[0;34m\u001b[0m\u001b[0;34m\u001b[0m\u001b[0m\n\u001b[1;32m   2997\u001b[0m             \u001b[0;32mraise\u001b[0m \u001b[0mValueError\u001b[0m\u001b[0;34m(\u001b[0m\u001b[0;34m\"x must be 1D\"\u001b[0m\u001b[0;34m)\u001b[0m\u001b[0;34m\u001b[0m\u001b[0;34m\u001b[0m\u001b[0m\n",
      "\u001b[0;32m~/Desktop/US_Elections/venv/lib/python3.8/site-packages/numpy/core/_asarray.py\u001b[0m in \u001b[0;36masarray\u001b[0;34m(a, dtype, order)\u001b[0m\n\u001b[1;32m     81\u001b[0m \u001b[0;34m\u001b[0m\u001b[0m\n\u001b[1;32m     82\u001b[0m     \"\"\"\n\u001b[0;32m---> 83\u001b[0;31m     \u001b[0;32mreturn\u001b[0m \u001b[0marray\u001b[0m\u001b[0;34m(\u001b[0m\u001b[0ma\u001b[0m\u001b[0;34m,\u001b[0m \u001b[0mdtype\u001b[0m\u001b[0;34m,\u001b[0m \u001b[0mcopy\u001b[0m\u001b[0;34m=\u001b[0m\u001b[0;32mFalse\u001b[0m\u001b[0;34m,\u001b[0m \u001b[0morder\u001b[0m\u001b[0;34m=\u001b[0m\u001b[0morder\u001b[0m\u001b[0;34m)\u001b[0m\u001b[0;34m\u001b[0m\u001b[0;34m\u001b[0m\u001b[0m\n\u001b[0m\u001b[1;32m     84\u001b[0m \u001b[0;34m\u001b[0m\u001b[0m\n\u001b[1;32m     85\u001b[0m \u001b[0;34m\u001b[0m\u001b[0m\n",
      "\u001b[0;31mValueError\u001b[0m: could not convert string to float: '1.441.170'"
     ]
    }
   ],
   "source": [
    "#adjusting trying to convert to float value\n",
    "#convert to float\n",
    "# x = np.array([trump_votes])\n",
    "# votes = x.astype(np.float)\n",
    "\n",
    "plt.pie(trump_values_dot, labels=states)\n",
    "plt.title(\"Trump Election chart by votes\")\n"
   ]
  }
 ],
 "metadata": {
  "kernelspec": {
   "display_name": "Python 3.8.6 64-bit ('venv': venv)",
   "language": "python",
   "name": "python38664bitvenvvenv7196a2550d2a40db92593e985dfd1c58"
  },
  "language_info": {
   "codemirror_mode": {
    "name": "ipython",
    "version": 3
   },
   "file_extension": ".py",
   "mimetype": "text/x-python",
   "name": "python",
   "nbconvert_exporter": "python",
   "pygments_lexer": "ipython3",
   "version": "3.8.6-final"
  }
 },
 "nbformat": 4,
 "nbformat_minor": 2
}